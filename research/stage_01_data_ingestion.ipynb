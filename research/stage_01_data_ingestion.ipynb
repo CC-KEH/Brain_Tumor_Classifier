{
  "cells": [
    {
      "cell_type": "code",
      "execution_count": 1,
      "metadata": {},
      "outputs": [],
      "source": [
        "import os"
      ]
    },
    {
      "cell_type": "code",
      "execution_count": 2,
      "metadata": {},
      "outputs": [],
      "source": [
        "os.chdir('../')"
      ]
    },
    {
      "cell_type": "code",
      "execution_count": 3,
      "metadata": {},
      "outputs": [
        {
          "data": {
            "text/plain": [
              "'c:\\\\Users\\\\arbas\\\\Documents\\\\Projects\\\\Machine-Learning\\\\EndToEnd_Deployed\\\\Brain_Tumor_Classification'"
            ]
          },
          "execution_count": 3,
          "metadata": {},
          "output_type": "execute_result"
        }
      ],
      "source": [
        "%pwd"
      ]
    },
    {
      "cell_type": "code",
      "execution_count": 5,
      "metadata": {},
      "outputs": [],
      "source": [
        "import sys"
      ]
    },
    {
      "cell_type": "code",
      "execution_count": 6,
      "metadata": {},
      "outputs": [],
      "source": [
        "from dataclasses import dataclass\n",
        "from pathlib import Path\n",
        "@dataclass(frozen=True)\n",
        "class Data_Ingestion_Config:\n",
        "    root_dir: Path\n",
        "    source_URL: str\n",
        "    local_data_path : Path \n",
        "    unzip_dir: Path"
      ]
    },
    {
      "cell_type": "code",
      "execution_count": 7,
      "metadata": {},
      "outputs": [],
      "source": [
        "from src.brain_tumor_classifier.constant import *\n",
        "from src.brain_tumor_classifier.utils.common import read_yaml,create_directories"
      ]
    },
    {
      "cell_type": "code",
      "execution_count": null,
      "metadata": {},
      "outputs": [],
      "source": [
        "def create_directories(file_path):\n",
        "    pass\n",
        "def read_yaml(file_path):\n",
        "    pass\n",
        "class Configuration_Manager:\n",
        "    def __init__(self,config_path=CONFIG_PATH,params_path=PARAMS_PATH,schema_path=SCHEMA_PATH):\n",
        "        self.config = read_yaml(config_path)\n",
        "        self.params = read_yaml(config_path)\n",
        "        self.schema = read_yaml(config_path)\n",
        "        create_directories([self.config.artifacts_root])\n",
        "        \n",
        "    def get_data_ingestion_config(self)->Data_Ingestion_Config:\n",
        "        config = self.config.Data_Ingestion\n",
        "        create_directories([config.root_dir])\n",
        "        data_ingestion_config = Data_Ingestion_Config(root_dir=config.root_dir,source_URL=config.source_URL,local_data_path=config.local_data_path,unzip_dir=config.unzip_dir)\n",
        "        return data_ingestion_config\n",
        "        "
      ]
    },
    {
      "cell_type": "code",
      "execution_count": null,
      "metadata": {},
      "outputs": [],
      "source": [
        "import os\n",
        "import urllib.request as request\n",
        "import zipfile\n",
        "from src.brain_tumor_classifier.utils.common import get_size, logger\n",
        "\n",
        "\n",
        "class Data_Ingestion:\n",
        "    def __init__(self,config:Data_Ingestion_Config):\n",
        "        self.config = config\n",
        "    \n",
        "    def download_data(self):\n",
        "        if not os.path.exists(self.config.local_data_path):\n",
        "            filename,header = request.urlretrieve(url=self.config.source_URL,filename=self.config.local_data_path)\n",
        "            logger.info(f'Successfully downloaded data {filename} with info: {header} at: {self.config.local_data_path}')\n",
        "        else:\n",
        "            logger.info(f'Data already exists of size {get_size(Path(self.config.local_data_path))}')\n",
        "    \n",
        "    def extract_data(self):\n",
        "        unzip_path = self.config.unzip_dir\n",
        "        os.makedirs(unzip_path,exist_ok=True)\n",
        "        with zipfile.ZipFile(self.config.local_data_path,'r') as zip_ref:\n",
        "            zip_ref.extractall(unzip_path)\n",
        "        \n",
        "    def initiate_data_ingestion(self):\n",
        "        self.download_data()\n",
        "        self.extract_data()"
      ]
    },
    {
      "cell_type": "code",
      "execution_count": null,
      "metadata": {},
      "outputs": [],
      "source": [
        "try:\n",
        "    config = Configuration_Manager()\n",
        "    data_ingestion_config = config.get_data_ingestion_config()\n",
        "    data_ingestion = Data_Ingestion(data_ingestion_config)\n",
        "    data_ingestion.initiate_data_ingestion()\n",
        "except Exception as e:\n",
        "    raise e"
      ]
    }
  ],
  "metadata": {
    "kernelspec": {
      "display_name": "Python 3",
      "language": "python",
      "name": "python3"
    },
    "language_info": {
      "codemirror_mode": {
        "name": "ipython",
        "version": 3
      },
      "file_extension": ".py",
      "mimetype": "text/x-python",
      "name": "python",
      "nbconvert_exporter": "python",
      "pygments_lexer": "ipython3",
      "version": "3.11.0"
    }
  },
  "nbformat": 4,
  "nbformat_minor": 2
}
