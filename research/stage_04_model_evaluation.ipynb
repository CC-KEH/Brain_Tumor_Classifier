{
  "cells": [
    {
      "cell_type": "code",
      "execution_count": 1,
      "metadata": {},
      "outputs": [],
      "source": [
        "import os"
      ]
    },
    {
      "cell_type": "code",
      "execution_count": 2,
      "metadata": {},
      "outputs": [],
      "source": [
        "os.chdir('../')"
      ]
    },
    {
      "cell_type": "code",
      "execution_count": 3,
      "metadata": {},
      "outputs": [],
      "source": [
        "from dataclasses import dataclass\n",
        "from pathlib import Path\n",
        "@dataclass(frozen=True)\n",
        "class Model_Evaluation_Config:\n",
        "    root_dir: Path\n",
        "    test_data_path: Path\n",
        "    model_path: Path\n",
        "    metric_file: Path"
      ]
    },
    {
      "cell_type": "code",
      "execution_count": 4,
      "metadata": {},
      "outputs": [],
      "source": [
        "from src.brain_tumor_classifier.constant import *\n",
        "def create_directories(file_path):\n",
        "    pass\n",
        "def read_yaml(file_path):\n",
        "    pass\n",
        "class Configuration_Manager:\n",
        "    def __init__(self,config_path=CONFIG_PATH,params_path=PARAMS_PATH,schema_path=SCHEMA_PATH):\n",
        "        self.config = read_yaml(config_path)\n",
        "        self.params = read_yaml(config_path)\n",
        "        self.schema = read_yaml(config_path)\n",
        "        create_directories([self.config.artifacts_root])\n",
        "        \n",
        "    def get_model_evaluation_config(self)->Model_Evaluation_Config:\n",
        "        config = self.config.Model_Evaluation\n",
        "        create_directories([config.root_dir])\n",
        "        model_evaluation_config = Model_Evaluation_Config(root_dir=config.root_dir,test_data_path=config.test_data_path,model_path=config.model_path,metric_file=config.metric_file)\n",
        "        return model_evaluation_config    "
      ]
    },
    {
      "cell_type": "code",
      "execution_count": null,
      "metadata": {},
      "outputs": [],
      "source": [
        "import numpy as np\n",
        "import pandas as pd\n",
        "from sklearn.pipeline import Pipeline\n",
        "import matplotlib.pyplot as plt\n",
        "from src.brain_tumor_classifier.utils.common import load_binary_file\n",
        "TENSOR_SIZE = (224,224,3)\n",
        "\n",
        "class Model_Evaluation:\n",
        "    def __init__(self,model_evaluation_config: Model_Evaluation_Config):\n",
        "        self.config = model_evaluation_config\n",
        "    def evaluate_models(self,models):\n",
        "        best_model = models[0]\n",
        "        best_model_accuracy = models[0].history['val_accuracy']\n",
        "        for i, model in enumerate(models):\n",
        "            # Plot and save loss\n",
        "            plt.plot(model.history['loss'], label='Training Loss')\n",
        "            plt.plot(model.history['val_loss'], label='Validation Loss')\n",
        "            plt.legend()\n",
        "            plt.savefig(f'{self.config.metric_file}/model_{i}_Loss_Val_Loss.png')\n",
        "            plt.close()\n",
        "\n",
        "            # Plot and save accuracy\n",
        "            plt.plot(model.history['accuracy'], label='Training Accuracy')\n",
        "            plt.plot(model.history['val_accuracy'], label='Validation Accuracy')\n",
        "            plt.legend()\n",
        "            plt.savefig(f'{self.config.metric_file}/model_{i}_Accuracy_Val_Accuracy.png')\n",
        "            plt.close()\n",
        "\n",
        "            # Update best model if necessary\n",
        "            if model.history['val_accuracy'] > best_model_accuracy:\n",
        "                best_model_accuracy = model.history['val_accuracy']\n",
        "                best_model = model\n",
        "\n",
        "        return best_model, best_model_accuracy\n",
        "    \n",
        "    def initiate_mode_evaluation(self):\n",
        "        resnet_model  = load_binary_file(os.path.join(self.config.model_path,'resnet_model.h5'))\n",
        "        vgg_model  = load_binary_file(os.path.join(self.config.model_path,'vgg_model.h5'))\n",
        "\n",
        "        best_model,best_model_accuracy = self.evaluate_models(models=[vgg_model,resnet_model])\n",
        "        logging.info('Finished Evaluating Models, Outputs are saved in CWD')\n",
        "        logging.info(f'Best Model found: {best_model} with Validation Accuracy {best_model_accuracy}')\n",
        "        return (best_model,best_model_accuracy)"
      ]
    },
    {
      "cell_type": "code",
      "execution_count": null,
      "metadata": {},
      "outputs": [],
      "source": [
        "try:\n",
        "    config = Configuration_Manager()\n",
        "    model_evaluation_config = config.get_model_evaluation_config()\n",
        "    model_evaluation = Model_Evaluation(model_evaluation_config)\n",
        "    model_evaluation.initiate_model_evaluation()\n",
        "except Exception as e:\n",
        "    raise e"
      ]
    }
  ],
  "metadata": {
    "kernelspec": {
      "display_name": "Python 3",
      "language": "python",
      "name": "python3"
    },
    "language_info": {
      "codemirror_mode": {
        "name": "ipython",
        "version": 3
      },
      "file_extension": ".py",
      "mimetype": "text/x-python",
      "name": "python",
      "nbconvert_exporter": "python",
      "pygments_lexer": "ipython3",
      "version": "3.11.0"
    }
  },
  "nbformat": 4,
  "nbformat_minor": 2
}
