{
 "cells": [
  {
   "cell_type": "code",
   "execution_count": 1,
   "metadata": {},
   "outputs": [],
   "source": [
    "import os"
   ]
  },
  {
   "cell_type": "code",
   "execution_count": 2,
   "metadata": {},
   "outputs": [],
   "source": [
    "os.chdir('../')"
   ]
  },
  {
   "cell_type": "code",
   "execution_count": 3,
   "metadata": {},
   "outputs": [
    {
     "data": {
      "text/plain": [
       "'c:\\\\Users\\\\arbas\\\\Documents\\\\Projects\\\\Machine-Learning\\\\EndToEnd_Deployed\\\\Brain_Tumor_Classification'"
      ]
     },
     "execution_count": 3,
     "metadata": {},
     "output_type": "execute_result"
    }
   ],
   "source": [
    "%pwd"
   ]
  },
  {
   "cell_type": "code",
   "execution_count": 7,
   "metadata": {},
   "outputs": [],
   "source": [
    "import os\n",
    "import sys\n",
    "from src.logger import logging\n",
    "from src.utils import MainUtils"
   ]
  },
  {
   "cell_type": "code",
   "execution_count": 8,
   "metadata": {},
   "outputs": [],
   "source": [
    "from dataclasses import dataclass\n",
    "from pathlib import Path\n",
    "@dataclass(frozen=True)\n",
    "class Data_Ingestion_Config:\n",
    "    root_dir: Path\n",
    "    source_URL: str\n",
    "    local_data_path : Path \n",
    "    unzip_dir: Path"
   ]
  },
  {
   "cell_type": "code",
   "execution_count": 19,
   "metadata": {},
   "outputs": [],
   "source": [
    "from src.constant import *\n",
    "# from src.utils.common import read_yaml,create_directories"
   ]
  },
  {
   "cell_type": "code",
   "execution_count": null,
   "metadata": {},
   "outputs": [],
   "source": [
    "def create_directories(file_path):\n",
    "    pass\n",
    "def read_yaml(file_path):\n",
    "    pass\n",
    "class Configuration_Manager:\n",
    "    def __init__(self,config_path=CONFIG_PATH,params_path=PARAMS_PATH,schema_path=SCHEMA_PATH):\n",
    "        self.config = read_yaml(config_path)\n",
    "        self.config = read_yaml(config_path)\n",
    "        self.config = read_yaml(config_path)\n",
    "        create_directories([self.config.artifacts_root])\n",
    "        \n",
    "    def get_data_ingestion_config(self)->Data_Ingestion_Config:\n",
    "        config = self.config.Data_Ingestion\n",
    "        create_directories([config.root_dir])\n",
    "        data_ingestion_config = Data_Ingestion_Config(root_dir=config.root_dir,source_URL=config.source_URL,local_data_path=config.loca_data_path,unzip_dir=config.unzip_dir)\n",
    "        return data_ingestion_config\n",
    "        "
   ]
  },
  {
   "cell_type": "code",
   "execution_count": null,
   "metadata": {},
   "outputs": [],
   "source": [
    "import os\n",
    "import urllib.request as request\n",
    "import zipfile\n",
    "from src.Project4.utils.common import get_size, logger\n",
    "\n",
    "\n",
    "class Data_Ingestion:\n",
    "    def __init__(self,config:Data_Ingestion_Config):\n",
    "        self.config = config\n",
    "    \n",
    "    def initiate_data_ingestion(self):\n",
    "        train_dir = os.path.join('dataset/Training/')\n",
    "        test_dir = os.path.join('dataset/Testing/')\n",
    "        self.utils.copy_images(\n",
    "            source_folder=train_dir, destination_folder=self.data_ingestion_config.train_path)\n",
    "        self.utils.copy_images(\n",
    "            source_folder=test_dir, destination_folder=self.data_ingestion_config.test_path)"
   ]
  },
  {
   "cell_type": "code",
   "execution_count": null,
   "metadata": {},
   "outputs": [],
   "source": [
    "try:\n",
    "    config = Configuration_Manager()\n",
    "    data_ingestion_config = config.get_data_ingestion_config()\n",
    "    data_ingestion = Data_Ingestion(data_ingestion_config)\n",
    "    data_ingestion.initiate_data_ingestion()\n",
    "except Exception as e:\n",
    "    raise e"
   ]
  }
 ],
 "metadata": {
  "kernelspec": {
   "display_name": "Python 3",
   "language": "python",
   "name": "python3"
  },
  "language_info": {
   "codemirror_mode": {
    "name": "ipython",
    "version": 3
   },
   "file_extension": ".py",
   "mimetype": "text/x-python",
   "name": "python",
   "nbconvert_exporter": "python",
   "pygments_lexer": "ipython3",
   "version": "3.11.0"
  }
 },
 "nbformat": 4,
 "nbformat_minor": 2
}
