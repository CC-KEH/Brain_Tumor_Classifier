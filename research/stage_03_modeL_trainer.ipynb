{
 "cells": [
  {
   "cell_type": "code",
   "execution_count": 1,
   "metadata": {},
   "outputs": [],
   "source": [
    "import os"
   ]
  },
  {
   "cell_type": "code",
   "execution_count": 2,
   "metadata": {},
   "outputs": [],
   "source": [
    "os.chdir('../')"
   ]
  },
  {
   "cell_type": "code",
   "execution_count": 3,
   "metadata": {},
   "outputs": [],
   "source": [
    "from dataclasses import dataclass\n",
    "from pathlib import Path\n",
    "@dataclass(frozen=True)\n",
    "class Model_Trainer_Config:\n",
    "    root_dir:  Path  \n",
    "    train_path:Path \n",
    "    test_path: Path "
   ]
  },
  {
   "cell_type": "code",
   "execution_count": 4,
   "metadata": {},
   "outputs": [],
   "source": [
    "from src.constant import *\n",
    "def create_directories(file_path):\n",
    "    pass\n",
    "def read_yaml(file_path):\n",
    "    pass\n",
    "class Configuration_Manager:\n",
    "    def __init__(self,config_path=CONFIG_PATH,params_path=PARAMS_PATH,schema_path=SCHEMA_PATH):\n",
    "        self.config = read_yaml(config_path)\n",
    "        self.params = read_yaml(params_path)\n",
    "        self.schema = read_yaml(schema_path)\n",
    "        create_directories([self.config.artifacts_root])\n",
    "        \n",
    "def get_model_trainer_config(self)->Model_Trainer_Config:\n",
    "    config = self.config.Model_Trainer\n",
    "    params = self.params\n",
    "    create_directories([config.root_dir])\n",
    "    model_trainer_config = Model_Trainer_Config(root_dir=config.root_dir,data_path=config.data_path,train_path=config.train_path,test_path=config.test_path)\n",
    "    return model_trainer_config,params    "
   ]
  },
  {
   "cell_type": "code",
   "execution_count": null,
   "metadata": {},
   "outputs": [],
   "source": [
    "from tensorflow.keras.preprocessing.image import ImageDataGenerator,load_img,image\n",
    "from tensorflow.keras.applications import VGG16,ResNet50\n",
    "from tensorflow.keras.callbacks import ModelCheckpoint, EarlyStopping, Callback\n",
    "from tensorflow.keras.optimizers import Adagrad,SGD,Adam\n",
    "from tensorflow.keras import regularizers\n",
    "from tensorflow.keras.utils import img_to_array,load_img\n",
    "from tensorflow.keras.layers import Sequential,Input,Flatten,Dense,Dropout,BatchNormalization\n",
    "import numpy as np\n",
    "import pandas as pd\n",
    "from sklearn.pipeline import Pipeline\n",
    "import matplotlib.pyplot as plt\n",
    "from src.utils.common import logger\n",
    "TENSOR_SIZE = (224,224,3)\n",
    "\n",
    "class Model_Trainer:\n",
    "    def __init__(self,model_trainer_config: Model_Trainer_Config):\n",
    "        self.config,self.params = model_trainer_config\n",
    "        input_shape = tuple(self.params['VGG16']['input_tensor']['input_shape'])\n",
    "        self.vgg_base_model = VGG16(input_tensor=Input(input_shape=input_shape), \n",
    "                      weights=self.params['VGG16']['weights'],\n",
    "                      include_top=self.params['VGG16']['include_top'])\n",
    "        self.resnet_base_model = ResNet50(input_tensor=Input(input_shape=input_shape), \n",
    "                      weights=self.params['ResNet50']['weights'],\n",
    "                      include_top=self.params['ResNet50']['include_top'])\n",
    "        \n",
    "    def get_models(self):\n",
    "        for layer in self.model_trainer_config.vgg_base_model.layers:\n",
    "            layer.trainable = False\n",
    "        \n",
    "        for layer in self.model_trainer_config.resnet_base_model.layers:\n",
    "            layer.trainable = False\n",
    "            \n",
    "        vgg_based_model = Sequential()    \n",
    "        vgg_based_model.add(self.model_trainer_config.vgg_base_model)    \n",
    "        vgg_based_model.add(Flatten())    \n",
    "        vgg_based_model.add(Dense(256,activation='relu'))    \n",
    "        vgg_based_model.add(Dense(4,activation='softmax'))\n",
    "        \n",
    "        resnet_based_model = Sequential()\n",
    "        resnet_based_model.add(self.model_trainer_config.resnet_base_model)\n",
    "        resnet_based_model.add(Flatten())\n",
    "        resnet_based_model.add(Dense(256,activation='relu'))\n",
    "        resnet_based_model.add(Dense(4,activation='softmax'))    \n",
    "\n",
    "        vgg_based_model.compile(loss='categorical_crossentropy',optimizer='adam',metrics=['accuracy'])\n",
    "        resnet_based_model.compile(loss='categorical_crossentropy',optimizer='adam',metrics=['accuracy'])\n",
    "        \n",
    "        return (vgg_based_model,resnet_based_model)\n",
    "             \n",
    "    def initiate_model_trainer(self,training_set,testing_set):\n",
    "        vgg_model,resnet_model = self.get_models()\n",
    "        \n",
    "        vgg_model.fit(training_set,epochs=self.params['VGG16']['epochs'],validation_set=testing_set,steps_per_epoch=len(training_set),validation_steps=len(testing_set))\n",
    "        logging.info('Finished Training VGG16 Model')\n",
    "        \n",
    "        resnet_model.fit(training_set,epochs=self.params['ResNet50']['epochs'],validation_set=testing_set,steps_per_epoch=len(training_set),validation_steps=len(testing_set))\n",
    "        logging.info('Finished Training ResNet50 Model')\n",
    "        \n",
    "        vgg_model.save(os.path.join(self.config.model_path,'vgg_model.h5'))\n",
    "        resnet_model.save(os.path.join(self.config.model_path,'resnet_model.h5'))\n",
    "        logging.info(f'Saved both models at: {self.config.model_path}')"
   ]
  },
  {
   "cell_type": "code",
   "execution_count": null,
   "metadata": {},
   "outputs": [],
   "source": [
    "try:\n",
    "    config = Configuration_Manager()\n",
    "    model_trainer_config = config.get_model_trainer_config()\n",
    "    model_trainer = Model_Trainer(model_trainer_config)\n",
    "    model_trainer.initiate_model_trainer()\n",
    "except Exception as e:\n",
    "    raise e"
   ]
  }
 ],
 "metadata": {
  "kernelspec": {
   "display_name": "Python 3",
   "language": "python",
   "name": "python3"
  },
  "language_info": {
   "codemirror_mode": {
    "name": "ipython",
    "version": 3
   },
   "file_extension": ".py",
   "mimetype": "text/x-python",
   "name": "python",
   "nbconvert_exporter": "python",
   "pygments_lexer": "ipython3",
   "version": "3.11.0"
  }
 },
 "nbformat": 4,
 "nbformat_minor": 2
}
