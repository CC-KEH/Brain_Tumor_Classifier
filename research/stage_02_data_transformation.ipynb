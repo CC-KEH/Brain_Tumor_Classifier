{
 "cells": [
  {
   "cell_type": "code",
   "execution_count": 1,
   "metadata": {},
   "outputs": [],
   "source": [
    "import os"
   ]
  },
  {
   "cell_type": "code",
   "execution_count": 2,
   "metadata": {},
   "outputs": [],
   "source": [
    "os.chdir('../')"
   ]
  },
  {
   "cell_type": "code",
   "execution_count": 3,
   "metadata": {},
   "outputs": [],
   "source": [
    "from dataclasses import dataclass\n",
    "from pathlib import Path\n",
    "@dataclass(frozen=True)\n",
    "class Data_Transformation_Config:\n",
    "    root_dir:  Path\n",
    "    data_path: Path\n",
    "    train_path:Path\n",
    "    test_path: Path"
   ]
  },
  {
   "cell_type": "code",
   "execution_count": 5,
   "metadata": {},
   "outputs": [],
   "source": [
    "from src.constant import *\n",
    "def create_directories(file_path):\n",
    "    pass\n",
    "def read_yaml(file_path):\n",
    "    pass\n",
    "class Configuration_Manager:\n",
    "    def __init__(self,config_path=CONFIG_PATH,params_path=PARAMS_PATH,schema_path=SCHEMA_PATH):\n",
    "        self.config = read_yaml(config_path)\n",
    "        self.config = read_yaml(config_path)\n",
    "        self.config = read_yaml(config_path)\n",
    "        create_directories([self.config.artifacts_root])\n",
    "        \n",
    "    def get_data_ingestion_config(self)->Data_Transformation_Config:\n",
    "        config = self.config.Data_Transformation\n",
    "        create_directories([config.root_dir])\n",
    "        data_transformation_config = Data_Transformation_Config(root_dir=config.root_dir,data_path=config.data_path,train_path=config.train_path,test_path=config.test_path)\n",
    "        return data_transformation_config\n",
    "        "
   ]
  },
  {
   "cell_type": "code",
   "execution_count": null,
   "metadata": {},
   "outputs": [],
   "source": [
    "import os\n",
    "import urllib.request as request\n",
    "import zipfile\n",
    "from src.utils.common import get_size, logger\n",
    "from src.utils import logger\n",
    "from tensorflow.keras.preprocessing.image import ImageDataGenerator,load_img\n",
    "import numpy as np\n",
    "import pandas as pd\n",
    "\n",
    "class Data_Ingestion:\n",
    "    def __init__(self,config:Data_Transformation_Config):\n",
    "        self.config = config\n",
    "    \n",
    "    def initiate_data_transformation(self,train_path,test_path):\n",
    "        # Read Dataset\n",
    "        IMAGE_SIZE = (224,224)\n",
    "        train_data_generator = ImageDataGenerator(rescale=1./255,shear_range=0.2,zoom_range=0.2,horizontal_flip=True)\n",
    "        test_data_generator = ImageDataGenerator(rescale=1./255)\n",
    "        training_set = train_data_generator.flow_from_directory(train_path,target_size=IMAGE_SIZE,batch_size=32,class_mode='categorical')\n",
    "        testing_set = test_data_generator.flow_from_directory(test_path,target_size=IMAGE_SIZE,batch_size=32,class_mode='categorical')\n",
    "        return (training_set,testing_set)"
   ]
  },
  {
   "cell_type": "code",
   "execution_count": null,
   "metadata": {},
   "outputs": [],
   "source": []
  }
 ],
 "metadata": {
  "kernelspec": {
   "display_name": "Python 3",
   "language": "python",
   "name": "python3"
  },
  "language_info": {
   "codemirror_mode": {
    "name": "ipython",
    "version": 3
   },
   "file_extension": ".py",
   "mimetype": "text/x-python",
   "name": "python",
   "nbconvert_exporter": "python",
   "pygments_lexer": "ipython3",
   "version": "3.11.0"
  }
 },
 "nbformat": 4,
 "nbformat_minor": 2
}
