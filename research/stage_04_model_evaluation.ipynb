{
 "cells": [
  {
   "cell_type": "code",
   "execution_count": 1,
   "metadata": {},
   "outputs": [],
   "source": [
    "import os"
   ]
  },
  {
   "cell_type": "code",
   "execution_count": 2,
   "metadata": {},
   "outputs": [],
   "source": [
    "os.chdir('../')"
   ]
  },
  {
   "cell_type": "code",
   "execution_count": 3,
   "metadata": {},
   "outputs": [],
   "source": [
    "from dataclasses import dataclass\n",
    "from pathlib import Path\n",
    "@dataclass(frozen=True)\n",
    "class Model_Evaluation_Config:\n",
    "    root_dir: Path\n",
    "    test_data_path: Path\n",
    "    model_path: Path\n",
    "    metric_file: Path"
   ]
  },
  {
   "cell_type": "code",
   "execution_count": 4,
   "metadata": {},
   "outputs": [],
   "source": [
    "from src.constant import *\n",
    "def create_directories(file_path):\n",
    "    pass\n",
    "def read_yaml(file_path):\n",
    "    pass\n",
    "class Configuration_Manager:\n",
    "    def __init__(self,config_path=CONFIG_PATH,params_path=PARAMS_PATH,schema_path=SCHEMA_PATH):\n",
    "        self.config = read_yaml(config_path)\n",
    "        self.config = read_yaml(config_path)\n",
    "        self.config = read_yaml(config_path)\n",
    "        create_directories([self.config.artifacts_root])\n",
    "        \n",
    "def get_model_evaluation_config(self)->Model_Evaluation_Config:\n",
    "    config = self.config.Model_Evaluation\n",
    "    create_directories([config.root_dir])\n",
    "    model_evaluation_config = Model_Evaluation_Config(root_dir=config.root_dir,data_path=config.data_path,train_path=config.train_path,test_path=config.test_path)\n",
    "    return model_evaluation_config    "
   ]
  },
  {
   "cell_type": "code",
   "execution_count": null,
   "metadata": {},
   "outputs": [],
   "source": [
    "import numpy as np\n",
    "import pandas as pd\n",
    "from sklearn.pipeline import Pipeline\n",
    "import matplotlib.pyplot as plt\n",
    "\n",
    "TENSOR_SIZE = (224,224,3)\n",
    "\n",
    "class Model_Evaluation:\n",
    "    def __init__(self,model_evaluation_config: Model_Evaluation_Config):\n",
    "        self.config = model_evaluation_config\n",
    "        \n",
    "    def evaluate_models(self):\n",
    "        models = self.config.model_path\n",
    "        #TODO: Edit this function, this wont work \n",
    "        best_model = models[0]\n",
    "        best_model_accuracy = models[0].history['val_accuracy']\n",
    "        for model in models:\n",
    "            plt.plot(model.history['loss'],label='Training_Loss')\n",
    "            plt.plot(model.history['val_loss'],label='Validation_Loss')\n",
    "            plt.legend()\n",
    "            plt.savefig(f'{model} Loss_Val_Loss')\n",
    "        \n",
    "        for model in models:\n",
    "            if(model.history['val_accuracy']>best_model_accuracy):\n",
    "                best_model_accuracy = model.history['val_accuracy']\n",
    "                best_model = model\n",
    "            plt.plot(model.history['accuracy'],label='Training_Accuracy')\n",
    "            plt.plot(model.history['val_accuracy'],label='Validation_Accuracy')\n",
    "            plt.legend()\n",
    "            plt.savefig(f'{model} Accuracy_Val_Accuracy')\n",
    "\n",
    "        return best_model,best_model_accuracy\n",
    "    \n",
    "    def initiate_mode_evaluation(self):\n",
    "        self.evaluate_models()"
   ]
  },
  {
   "cell_type": "code",
   "execution_count": null,
   "metadata": {},
   "outputs": [],
   "source": [
    "try:\n",
    "    config = Configuration_Manager()\n",
    "    model_evaluation_config = config.get_model_evaluation_config()\n",
    "    model_evaluation = Model_Evaluation(model_evaluation_config)\n",
    "    model_evaluation.initiate_model_evaluation()\n",
    "except Exception as e:\n",
    "    raise e"
   ]
  }
 ],
 "metadata": {
  "kernelspec": {
   "display_name": "Python 3",
   "language": "python",
   "name": "python3"
  },
  "language_info": {
   "codemirror_mode": {
    "name": "ipython",
    "version": 3
   },
   "file_extension": ".py",
   "mimetype": "text/x-python",
   "name": "python",
   "nbconvert_exporter": "python",
   "pygments_lexer": "ipython3",
   "version": "3.11.0"
  }
 },
 "nbformat": 4,
 "nbformat_minor": 2
}
